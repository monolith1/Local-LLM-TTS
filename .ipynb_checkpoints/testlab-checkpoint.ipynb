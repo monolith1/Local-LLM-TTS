{
 "cells": [
  {
   "cell_type": "markdown",
   "id": "5acbb64c-3bd6-4bfc-92b4-826a46890124",
   "metadata": {},
   "source": [
    "# STT -> LLM -> TTS Test Space\n",
    "\n",
    "pipeline and stack:\n",
    "\n",
    "* STT: coqui tts, vosk (which one?)\n",
    "* LLM: ollama, langchain\n",
    "* TTS: coqui tts\n",
    "* AUDIO I/O: pyaudio, sounddevice"
   ]
  },
  {
   "cell_type": "markdown",
   "id": "703ee617-7fd5-488d-a1d1-a620fb9b8206",
   "metadata": {},
   "source": [
    "### Audio I/O Testing"
   ]
  },
  {
   "cell_type": "code",
   "execution_count": 2,
   "id": "2c839546-cbec-43eb-b384-b9b27ea9acc0",
   "metadata": {},
   "outputs": [],
   "source": [
    "# audio IO - pyaudio test (playback - sample)\n",
    "import wave\n",
    "import sys\n",
    "import pyaudio\n",
    "\n",
    "chunksize = 1024\n",
    "f = 'output.wav'\n",
    "\n",
    "with wave.open(f, 'rb') as wf:\n",
    "    # Instantiate PyAudio and initialize PortAudio system resources (1)\n",
    "    p = pyaudio.PyAudio()\n",
    "\n",
    "    # Open steam (2)\n",
    "    stream = p.open(format=p.get_format_from_width(wf.getsampwidth()),\n",
    "                    channels=wf.getnchannels(),\n",
    "                    rate=wf.getframerate(),\n",
    "                    output=True)\n",
    "\n",
    "    # Play samples from the wave file (3)\n",
    "    while len(data := wf.readframes(chunksize)):\n",
    "        stream.write(data)\n",
    "\n",
    "    # Close stream (4)\n",
    "    stream.close()\n",
    "\n",
    "    # Release PortAudio system resources (5)\n",
    "    p.terminate()"
   ]
  },
  {
   "cell_type": "code",
   "execution_count": 3,
   "id": "6ebe306a-a8b6-4474-950a-002f733b725c",
   "metadata": {},
   "outputs": [
    {
     "name": "stdout",
     "output_type": "stream",
     "text": [
      "recording started\n",
      "recording stopped\n"
     ]
    }
   ],
   "source": [
    "# audio IO - pyaudio test (record)\n",
    "import wave\n",
    "import sys\n",
    "import pyaudio\n",
    "import math\n",
    "\n",
    "chunksize = 1024\n",
    "f = 'record.wav'\n",
    "seconds = 5\n",
    "rate = 44100\n",
    "channels = 1\n",
    "form = pyaudio.paInt16\n",
    "\n",
    "# Instantiate PyAudio and initialize PortAudio system resources (1)\n",
    "p = pyaudio.PyAudio()\n",
    "\n",
    "# Open steam (2)\n",
    "stream = p.open(format=form,\n",
    "                channels=channels,\n",
    "                rate=rate,\n",
    "                input=True,\n",
    "                frames_per_buffer=chunksize)\n",
    "\n",
    "# instantiate frames container\n",
    "print (\"recording started\")\n",
    "recordframes = []\n",
    "\n",
    "# record w/ logic for seconds\n",
    "for i in range(0, math.ceil(rate / chunksize * seconds)):\n",
    "    data = stream.read(chunksize)\n",
    "    recordframes.append(data)\n",
    "print (\"recording stopped\")\n",
    "stream.stop_stream()\n",
    "\n",
    "# Close stream (4)\n",
    "stream.close()\n",
    "\n",
    "# Release PortAudio system resources (5)\n",
    "p.terminate()\n",
    "\n",
    "# wav file\n",
    "wf = wave.open(f, 'wb')\n",
    "wf.setnchannels(channels)\n",
    "wf.setsampwidth(p.get_sample_size(form))\n",
    "wf.setframerate(rate)\n",
    "wf.writeframes(b''.join(recordframes))\n",
    "wf.close()"
   ]
  },
  {
   "cell_type": "code",
   "execution_count": 4,
   "id": "0f8bc4a9-237d-48c8-84dc-86241c9ccede",
   "metadata": {},
   "outputs": [],
   "source": [
    "# audio IO - pyaudio test (playback - sample)\n",
    "import wave\n",
    "import sys\n",
    "import pyaudio\n",
    "\n",
    "chunksize = 1024\n",
    "f = 'record.wav'\n",
    "\n",
    "with wave.open(f, 'rb') as wf:\n",
    "    # Instantiate PyAudio and initialize PortAudio system resources (1)\n",
    "    p = pyaudio.PyAudio()\n",
    "\n",
    "    # Open steam (2)\n",
    "    stream = p.open(format=p.get_format_from_width(wf.getsampwidth()),\n",
    "                    channels=wf.getnchannels(),\n",
    "                    rate=wf.getframerate(),\n",
    "                    output=True)\n",
    "\n",
    "    # Play samples from the wave file (3)\n",
    "    while len(data := wf.readframes(chunksize)):\n",
    "        stream.write(data)\n",
    "\n",
    "    # Close stream (4)\n",
    "    stream.close()\n",
    "\n",
    "    # Release PortAudio system resources (5)\n",
    "    p.terminate()"
   ]
  },
  {
   "cell_type": "markdown",
   "id": "c608f26b-e5d6-45f4-99fb-78ba6958c9ea",
   "metadata": {},
   "source": [
    "### Voice Synthesis Testing"
   ]
  },
  {
   "cell_type": "code",
   "execution_count": 5,
   "id": "db0bba7d-22dd-423b-9023-449aa7b1186a",
   "metadata": {},
   "outputs": [
    {
     "name": "stdout",
     "output_type": "stream",
     "text": [
      " > tts_models/multilingual/multi-dataset/xtts_v2 is already downloaded.\n",
      " > Using model: xtts\n",
      " > Text splitted to sentences.\n",
      "['Hey fryman, pass me the peanut butter']\n",
      " > Processing time: 2.366482734680176\n",
      " > Real-time factor: 0.6703615660290067\n"
     ]
    },
    {
     "data": {
      "text/plain": [
       "'wav_sample/test_p1_20250319000000.wav'"
      ]
     },
     "execution_count": 5,
     "metadata": {},
     "output_type": "execute_result"
    }
   ],
   "source": [
    "import torch\n",
    "from TTS.api import TTS\n",
    "from datetime import date \n",
    "\n",
    "script = 'Hey fryman, pass me the peanut butter'\n",
    "\n",
    "# Get device\n",
    "device = \"cuda\" if torch.cuda.is_available() else \"cpu\"\n",
    "\n",
    "# Init TTS\n",
    "tts = TTS(\"tts_models/multilingual/multi-dataset/xtts_v2\").to(device)\n",
    "\n",
    "# Text to speech to a file\n",
    "tts.tts_to_file(text=script, speaker_wav=\"wav_training/p1.wav\", language=\"en\", file_path=f\"wav_sample/test_p1_{date.today().strftime('%Y%m%d%H%M%S')}.wav\")"
   ]
  },
  {
   "cell_type": "markdown",
   "id": "f94805a6-8027-4f69-97cd-9e9f2a86b6f1",
   "metadata": {},
   "source": [
    "### LLM Instantiation Testing"
   ]
  },
  {
   "cell_type": "code",
   "execution_count": 1,
   "id": "9df80160-ebfe-4841-bc27-ebcf696cdb4e",
   "metadata": {},
   "outputs": [
    {
     "data": {
      "text/plain": [
       "0"
      ]
     },
     "execution_count": 1,
     "metadata": {},
     "output_type": "execute_result"
    }
   ],
   "source": [
    "# instantiate ollama - is this necessary when running win app?\n",
    "import os\n",
    "os.system('ollama run llama3.2')"
   ]
  },
  {
   "cell_type": "code",
   "execution_count": 1,
   "id": "540af5aa-fe05-4b7e-8111-1e97979930ca",
   "metadata": {},
   "outputs": [],
   "source": [
    "from ollama import chat\n",
    "from ollama import ChatResponse"
   ]
  },
  {
   "cell_type": "code",
   "execution_count": 3,
   "id": "11674d19-a052-436e-87b6-6330bf40d67b",
   "metadata": {},
   "outputs": [
    {
     "name": "stdout",
     "output_type": "stream",
     "text": [
      "The sky appears blue because of a phenomenon called Rayleigh scattering, named after the British physicist Lord Rayleigh. This process occurs when sunlight enters Earth's atmosphere and interacts with tiny molecules of gases such as nitrogen (N2) and oxygen (O2).\n",
      "\n",
      "Here's what happens:\n",
      "\n",
      "1. Sunlight is made up of different colors, each with its own unique wavelength.\n",
      "2. When sunlight passes through the atmosphere, it encounters tiny molecules of gases like N2 and O2.\n",
      "3. The smaller molecules scatter the shorter wavelengths (like blue and violet) more than the longer wavelengths (like red and orange). This scattering effect is known as Rayleigh scattering.\n",
      "4. As a result, the scattered blue light is dispersed in all directions, reaching our eyes from every part of the sky.\n",
      "5. Our eyes perceive this dispersed blue light as the color of the sky.\n",
      "\n",
      "The reason why the sky appears blue during the daytime and not at sunrise or sunset is because:\n",
      "\n",
      "* During sunrise and sunset, the sun's rays have to travel through more of the Earth's atmosphere to reach us, which scatters the shorter wavelengths even more.\n",
      "* The longer wavelengths (like red and orange) dominate the light that reaches our eyes, giving the sky a reddish hue during these times.\n",
      "\n",
      "At night, the sky appears dark because the Sun is below the horizon, and there is no direct sunlight to scatter. However, stars, planets, and other celestial objects can be seen if they are bright enough, or if there's moonlight illuminating them.\n",
      "\n",
      "So, in summary, the sky appears blue due to Rayleigh scattering of sunlight by tiny molecules of gases in the atmosphere.\n",
      "The sky appears blue because of a phenomenon called Rayleigh scattering, named after the British physicist Lord Rayleigh. This process occurs when sunlight enters Earth's atmosphere and interacts with tiny molecules of gases such as nitrogen (N2) and oxygen (O2).\n",
      "\n",
      "Here's what happens:\n",
      "\n",
      "1. Sunlight is made up of different colors, each with its own unique wavelength.\n",
      "2. When sunlight passes through the atmosphere, it encounters tiny molecules of gases like N2 and O2.\n",
      "3. The smaller molecules scatter the shorter wavelengths (like blue and violet) more than the longer wavelengths (like red and orange). This scattering effect is known as Rayleigh scattering.\n",
      "4. As a result, the scattered blue light is dispersed in all directions, reaching our eyes from every part of the sky.\n",
      "5. Our eyes perceive this dispersed blue light as the color of the sky.\n",
      "\n",
      "The reason why the sky appears blue during the daytime and not at sunrise or sunset is because:\n",
      "\n",
      "* During sunrise and sunset, the sun's rays have to travel through more of the Earth's atmosphere to reach us, which scatters the shorter wavelengths even more.\n",
      "* The longer wavelengths (like red and orange) dominate the light that reaches our eyes, giving the sky a reddish hue during these times.\n",
      "\n",
      "At night, the sky appears dark because the Sun is below the horizon, and there is no direct sunlight to scatter. However, stars, planets, and other celestial objects can be seen if they are bright enough, or if there's moonlight illuminating them.\n",
      "\n",
      "So, in summary, the sky appears blue due to Rayleigh scattering of sunlight by tiny molecules of gases in the atmosphere.\n"
     ]
    }
   ],
   "source": [
    "# demo example - https://github.com/ollama/ollama-python\n",
    "\n",
    "response: ChatResponse = chat(model='llama3.2', messages=[\n",
    "  {\n",
    "    'role': 'user',\n",
    "    'content': 'Why is the sky blue?',\n",
    "  },\n",
    "])\n",
    "print(response['message']['content'])\n",
    "# or access fields directly from the response object\n",
    "print(response.message.content)"
   ]
  },
  {
   "cell_type": "code",
   "execution_count": 4,
   "id": "11181037-a0fd-4ccf-af08-f8516c7fc1da",
   "metadata": {},
   "outputs": [
    {
     "data": {
      "text/plain": [
       "ollama._types.ChatResponse"
      ]
     },
     "execution_count": 4,
     "metadata": {},
     "output_type": "execute_result"
    }
   ],
   "source": [
    "type(response)"
   ]
  },
  {
   "cell_type": "code",
   "execution_count": 6,
   "id": "540b495c-f258-486c-b33b-07a1c4c01a68",
   "metadata": {},
   "outputs": [
    {
     "data": {
      "text/plain": [
       "ChatResponse(model='llama3.2', created_at='2025-05-07T01:40:34.096695Z', done=True, done_reason='stop', total_duration=2903853900, load_duration=24000700, prompt_eval_count=31, prompt_eval_duration=2999400, eval_count=334, eval_duration=2876853800, message=Message(role='assistant', content=\"The sky appears blue because of a phenomenon called Rayleigh scattering, named after the British physicist Lord Rayleigh. This process occurs when sunlight enters Earth's atmosphere and interacts with tiny molecules of gases such as nitrogen (N2) and oxygen (O2).\\n\\nHere's what happens:\\n\\n1. Sunlight is made up of different colors, each with its own unique wavelength.\\n2. When sunlight passes through the atmosphere, it encounters tiny molecules of gases like N2 and O2.\\n3. The smaller molecules scatter the shorter wavelengths (like blue and violet) more than the longer wavelengths (like red and orange). This scattering effect is known as Rayleigh scattering.\\n4. As a result, the scattered blue light is dispersed in all directions, reaching our eyes from every part of the sky.\\n5. Our eyes perceive this dispersed blue light as the color of the sky.\\n\\nThe reason why the sky appears blue during the daytime and not at sunrise or sunset is because:\\n\\n* During sunrise and sunset, the sun's rays have to travel through more of the Earth's atmosphere to reach us, which scatters the shorter wavelengths even more.\\n* The longer wavelengths (like red and orange) dominate the light that reaches our eyes, giving the sky a reddish hue during these times.\\n\\nAt night, the sky appears dark because the Sun is below the horizon, and there is no direct sunlight to scatter. However, stars, planets, and other celestial objects can be seen if they are bright enough, or if there's moonlight illuminating them.\\n\\nSo, in summary, the sky appears blue due to Rayleigh scattering of sunlight by tiny molecules of gases in the atmosphere.\", images=None, tool_calls=None))"
      ]
     },
     "execution_count": 6,
     "metadata": {},
     "output_type": "execute_result"
    }
   ],
   "source": [
    "response"
   ]
  },
  {
   "cell_type": "code",
   "execution_count": 8,
   "id": "4829bb76-6885-4bc6-9366-675649efe4e7",
   "metadata": {},
   "outputs": [
    {
     "data": {
      "text/plain": [
       "Message(role='assistant', content=\"The sky appears blue because of a phenomenon called Rayleigh scattering, named after the British physicist Lord Rayleigh. This process occurs when sunlight enters Earth's atmosphere and interacts with tiny molecules of gases such as nitrogen (N2) and oxygen (O2).\\n\\nHere's what happens:\\n\\n1. Sunlight is made up of different colors, each with its own unique wavelength.\\n2. When sunlight passes through the atmosphere, it encounters tiny molecules of gases like N2 and O2.\\n3. The smaller molecules scatter the shorter wavelengths (like blue and violet) more than the longer wavelengths (like red and orange). This scattering effect is known as Rayleigh scattering.\\n4. As a result, the scattered blue light is dispersed in all directions, reaching our eyes from every part of the sky.\\n5. Our eyes perceive this dispersed blue light as the color of the sky.\\n\\nThe reason why the sky appears blue during the daytime and not at sunrise or sunset is because:\\n\\n* During sunrise and sunset, the sun's rays have to travel through more of the Earth's atmosphere to reach us, which scatters the shorter wavelengths even more.\\n* The longer wavelengths (like red and orange) dominate the light that reaches our eyes, giving the sky a reddish hue during these times.\\n\\nAt night, the sky appears dark because the Sun is below the horizon, and there is no direct sunlight to scatter. However, stars, planets, and other celestial objects can be seen if they are bright enough, or if there's moonlight illuminating them.\\n\\nSo, in summary, the sky appears blue due to Rayleigh scattering of sunlight by tiny molecules of gases in the atmosphere.\", images=None, tool_calls=None)"
      ]
     },
     "execution_count": 8,
     "metadata": {},
     "output_type": "execute_result"
    }
   ],
   "source": [
    "response['message']"
   ]
  },
  {
   "cell_type": "code",
   "execution_count": null,
   "id": "35cf8ad7-7199-412b-b429-5adbf62524f6",
   "metadata": {},
   "outputs": [],
   "source": []
  }
 ],
 "metadata": {
  "kernelspec": {
   "display_name": "Python 3 (ipykernel)",
   "language": "python",
   "name": "python3"
  },
  "language_info": {
   "codemirror_mode": {
    "name": "ipython",
    "version": 3
   },
   "file_extension": ".py",
   "mimetype": "text/x-python",
   "name": "python",
   "nbconvert_exporter": "python",
   "pygments_lexer": "ipython3",
   "version": "3.11.11"
  }
 },
 "nbformat": 4,
 "nbformat_minor": 5
}
